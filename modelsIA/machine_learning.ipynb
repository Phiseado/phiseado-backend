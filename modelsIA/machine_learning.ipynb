{
 "cells": [
  {
   "cell_type": "markdown",
   "id": "06179ff5",
   "metadata": {},
   "source": [
    "<center><h1> Phishing detection </h1></center>"
   ]
  },
  {
   "cell_type": "markdown",
   "id": "d81c61b7",
   "metadata": {},
   "source": [
    "<a id='index-of-content'></a>\n",
    "<h2> 1. Index </h2>"
   ]
  },
  {
   "cell_type": "markdown",
   "id": "6ccd4483",
   "metadata": {},
   "source": [
    "<a id='lectura-de-datos'></a>\n",
    "<h2> 2. Data reading </h2>"
   ]
  },
  {
   "cell_type": "code",
   "execution_count": 43,
   "id": "6890321e",
   "metadata": {},
   "outputs": [],
   "source": [
    "import pandas\n",
    "\n",
    "urls = pandas.read_csv('tb1_dataset_urls.csv', header=0)"
   ]
  },
  {
   "cell_type": "code",
   "execution_count": 44,
   "id": "8e767403",
   "metadata": {},
   "outputs": [],
   "source": [
    "atributos = urls.loc[:, 'qty_dot_url':'email_in_url']  # selección de las columnas de atributos\n",
    "objetivo = urls['phishing']"
   ]
  },
  {
   "cell_type": "markdown",
   "id": "b8b6f961",
   "metadata": {},
   "source": [
    "<a id='separacion-de-conjuntos'></a>\n",
    "<h2> 4. Separation of training and testing set </h2>"
   ]
  },
  {
   "cell_type": "code",
   "execution_count": 45,
   "id": "fccfb595",
   "metadata": {},
   "outputs": [
    {
     "name": "stdout",
     "output_type": "stream",
     "text": [
      "0    0.65428\n",
      "1    0.34572\n",
      "Name: phishing, dtype: float64\n"
     ]
    }
   ],
   "source": [
    "print(pandas.Series(objetivo).value_counts(normalize=True))"
   ]
  },
  {
   "cell_type": "code",
   "execution_count": 50,
   "id": "7ab5de97",
   "metadata": {},
   "outputs": [],
   "source": [
    "from sklearn import model_selection\n",
    "\n",
    "(atributos_entrenamiento, atributos_prueba,\n",
    " objetivo_entrenamiento, objetivo_prueba) = model_selection.train_test_split(\n",
    "        # Conjuntos de datos a dividir, usando los mismos índices para ambos\n",
    "        atributos, objetivo,\n",
    "        # Valor de la semilla aleatoria, para que el muestreo sea reproducible,\n",
    "        # a pesar de ser aleatorio\n",
    "        random_state=42,\n",
    "        # Tamaño del conjunto de prueba\n",
    "        test_size=.33,\n",
    "        # Estratificamos respecto a la distribución de valores en la variable objetivo\n",
    "        stratify=objetivo)"
   ]
  },
  {
   "cell_type": "markdown",
   "id": "1c1d8ddb",
   "metadata": {},
   "source": [
    "<a id='modelos-de-clasificacion'></a>\n",
    "<h2> 4. Classification models </h2>"
   ]
  },
  {
   "cell_type": "markdown",
   "id": "aff9c725",
   "metadata": {},
   "source": [
    "<a id='knn-5-vecinos'></a>\n",
    "<h2> 4.1. KNN Classifier </h2>"
   ]
  },
  {
   "cell_type": "code",
   "execution_count": 51,
   "id": "1752a784",
   "metadata": {},
   "outputs": [],
   "source": [
    "from sklearn import neighbors\n",
    "def score_kNN(atributos_entrenamiento, objetivo_entrenamiento,atributos_prueba, objetivo_prueba, k):    \n",
    "    clasif_kNN = neighbors.KNeighborsClassifier(n_neighbors=k, metric='hamming')\n",
    "    clasif_kNN.fit(atributos_entrenamiento, objetivo_entrenamiento)\n",
    "\n",
    "    return clasif_kNN.score(atributos_prueba, objetivo_prueba)"
   ]
  },
  {
   "cell_type": "code",
   "execution_count": 53,
   "id": "7886de00",
   "metadata": {},
   "outputs": [],
   "source": [
    "score_kNN = score_kNN(atributos_entrenamiento, objetivo_entrenamiento,atributos_prueba, objetivo_prueba, 5)"
   ]
  },
  {
   "cell_type": "code",
   "execution_count": 55,
   "id": "0f14e04b",
   "metadata": {},
   "outputs": [],
   "source": [
    "import urllib.parse as urlparse\n",
    "def get_length_top_level_domain(url):\n",
    "    url = urlparse.urlparse(url)\n",
    "    domain = url.netloc\n",
    "    domain = domain.split('.')\n",
    "    return (0, len(domain[-1]))[len(domain)>1]"
   ]
  },
  {
   "cell_type": "code",
   "execution_count": 59,
   "id": "f47aefb6",
   "metadata": {},
   "outputs": [],
   "source": [
    "import re\n",
    "def check_is_email_present(url):\n",
    "    if re.match(r'http[s]?://(?:[a-zA-Z]|[0-9]|[$-_@.&+]|[!*\\(\\),]|(?:%[0-9a-fA-F][0-9a-fA-F]))+', url):\n",
    "        return 1\n",
    "    else:\n",
    "        return 0"
   ]
  },
  {
   "cell_type": "code",
   "execution_count": 60,
   "metadata": {},
   "outputs": [],
   "source": [
    "def obtain_tb1_attributes(url):\n",
    "    qty_dot = url.count('.')\n",
    "    qty_hyphen = url.count('-')\n",
    "    qty_underline = url.count('_')\n",
    "    qty_slash = url.count('/')\n",
    "    qty_questionmark = url.count('?')\n",
    "    qty_equal = url.count('=')\n",
    "    qty_at = url.count('@')\n",
    "    qty_and = url.count('&')\n",
    "    qty_exclamation = url.count('!')\n",
    "    qty_space = url.count(' ')\n",
    "    qty_tilde_url = url.count('~')\n",
    "    qty_comma_url = url.count(',')\n",
    "    qty_plus_url = url.count('+')\n",
    "    qty_asterisk_url = url.count('*')\n",
    "    qty_hash_url = url.count('#')\n",
    "    qty_dollar_url = url.count('$')\n",
    "    qty_percent_url = url.count('%')\n",
    "    qty_length_top_level_domain = get_length_top_level_domain(url)\n",
    "    length = len(url)\n",
    "    is_email_present = check_is_email_present(url)\n",
    "    return [qty_dot, qty_hyphen, qty_underline, qty_slash, qty_questionmark, qty_equal, qty_at, qty_and, qty_exclamation, qty_space, qty_tilde_url, qty_comma_url, qty_plus_url, qty_asterisk_url, qty_hash_url, qty_dollar_url, qty_percent_url, qty_length_top_level_domain, length, is_email_present]\n",
    "    "
   ]
  },
  {
   "cell_type": "code",
   "execution_count": null,
   "id": "bdec9864",
   "metadata": {},
   "outputs": [],
   "source": []
  },
  {
   "cell_type": "code",
   "execution_count": 65,
   "metadata": {},
   "outputs": [
    {
     "name": "stdout",
     "output_type": "stream",
     "text": [
      "[0]\n"
     ]
    }
   ],
   "source": [
    "clasif_kNN = neighbors.KNeighborsClassifier(n_neighbors=5, metric='hamming')\n",
    "clasif_kNN.fit(atributos_entrenamiento, objetivo_entrenamiento)\n",
    "incoming_url = obtain_tb1_attributes(\"hla\")\n",
    "prediction = clasif_kNN.predict([incoming_url])\n",
    "print(prediction)"
   ]
  },
  {
   "cell_type": "markdown",
   "id": "cf62acfb",
   "metadata": {},
   "source": [
    "<a id='decision-tree'></a>\n",
    "<h2> 4.2. Decission Tree Classifier</h2>"
   ]
  },
  {
   "cell_type": "code",
   "execution_count": 66,
   "id": "b2be7a8a",
   "metadata": {},
   "outputs": [],
   "source": [
    "from sklearn.tree import DecisionTreeClassifier\n",
    "def score_tree_classifier(atributos_entrenamiento, objetivo_entrenamiento,atributos_prueba, objetivo_prueba):\n",
    "    clasif_Tree = DecisionTreeClassifier(random_state=0)\n",
    "    clasif_Tree.fit(atributos_entrenamiento, objetivo_entrenamiento)\n",
    "\n",
    "    return clasif_Tree.score(atributos_prueba, objetivo_prueba)"
   ]
  },
  {
   "cell_type": "code",
   "execution_count": 67,
   "id": "343ec396",
   "metadata": {},
   "outputs": [
    {
     "data": {
      "text/plain": [
       "0.9026457920284405"
      ]
     },
     "execution_count": 67,
     "metadata": {},
     "output_type": "execute_result"
    }
   ],
   "source": [
    "score_tree_classifier(atributos_entrenamiento, objetivo_entrenamiento,atributos_prueba, objetivo_prueba)"
   ]
  },
  {
   "cell_type": "code",
   "execution_count": 70,
   "id": "5423f1f0",
   "metadata": {},
   "outputs": [
    {
     "name": "stdout",
     "output_type": "stream",
     "text": [
      "[0]\n"
     ]
    }
   ],
   "source": [
    "clasif_Tree = DecisionTreeClassifier(random_state=0)\n",
    "clasif_Tree.fit(atributos_entrenamiento, objetivo_entrenamiento)\n",
    "incoming_url = obtain_tb1_attributes(\"https://google.com\")\n",
    "prediction = clasif_Tree.predict([incoming_url])\n",
    "print(prediction)"
   ]
  },
  {
   "cell_type": "markdown",
   "id": "a2fce4e9",
   "metadata": {},
   "source": [
    "<a id='neuronal-network'></a>\n",
    "<h2> 4.3. Neural Network Classifier</h2>"
   ]
  },
  {
   "cell_type": "code",
   "execution_count": 46,
   "id": "fca7f59f",
   "metadata": {},
   "outputs": [],
   "source": [
    "from sklearn.neural_network import MLPClassifier\n",
    "def score_neuronal_network(atributos_entrenamiento, objetivo_entrenamiento,atributos_prueba, objetivo_prueba):\n",
    "    clf = MLPClassifier(solver='lbfgs', alpha=1e-5, hidden_layer_sizes=(2, 5), random_state=1)\n",
    "    clf.fit(atributos_entrenamiento, objetivo_entrenamiento)\n",
    "    \n",
    "    return clf.score(atributos_prueba, objetivo_prueba)"
   ]
  },
  {
   "cell_type": "code",
   "execution_count": 47,
   "id": "cac549df",
   "metadata": {},
   "outputs": [
    {
     "name": "stderr",
     "output_type": "stream",
     "text": [
      "/Users/maribelrb/opt/anaconda3/lib/python3.8/site-packages/sklearn/neural_network/_multilayer_perceptron.py:500: ConvergenceWarning: lbfgs failed to converge (status=2):\n",
      "ABNORMAL_TERMINATION_IN_LNSRCH.\n",
      "\n",
      "Increase the number of iterations (max_iter) or scale the data as shown in:\n",
      "    https://scikit-learn.org/stable/modules/preprocessing.html\n",
      "  self.n_iter_ = _check_optimize_result(\"lbfgs\", opt_res, self.max_iter)\n"
     ]
    },
    {
     "data": {
      "text/plain": [
       "0.634921720106652"
      ]
     },
     "execution_count": 47,
     "metadata": {},
     "output_type": "execute_result"
    }
   ],
   "source": [
    "score_neuronal_network(atributos_entrenamiento, objetivo_entrenamiento,atributos_prueba, objetivo_prueba)"
   ]
  },
  {
   "cell_type": "markdown",
   "id": "7fff3b4b",
   "metadata": {},
   "source": [
    "<a id='random-forest'></a>\n",
    "<h2>4.4. Random Forest Classifier</h2>"
   ]
  },
  {
   "cell_type": "code",
   "execution_count": 50,
   "id": "5ee6583b",
   "metadata": {},
   "outputs": [],
   "source": [
    "from sklearn.ensemble import RandomForestClassifier\n",
    "def score_random_forest(atributos_entrenamiento, objetivo_entrenamiento,atributos_prueba, objetivo_prueba):\n",
    "    clasif_RF = RandomForestClassifier(n_estimators=100, max_depth=2, random_state=0)\n",
    "    clasif_RF.fit(atributos_entrenamiento, objetivo_entrenamiento)\n",
    "    return clasif_RF.score(atributos_prueba, objetivo_prueba)"
   ]
  },
  {
   "cell_type": "code",
   "execution_count": 51,
   "id": "ffcef534",
   "metadata": {},
   "outputs": [
    {
     "data": {
      "text/plain": [
       "0.8642578792643741"
      ]
     },
     "execution_count": 51,
     "metadata": {},
     "output_type": "execute_result"
    }
   ],
   "source": [
    "score_random_forest(atributos_entrenamiento, objetivo_entrenamiento,atributos_prueba, objetivo_prueba)"
   ]
  },
  {
   "cell_type": "markdown",
   "id": "7fc9ecb4",
   "metadata": {},
   "source": [
    "<a id='logistic-regresion'></a>\n",
    "<h2>4.5. Logistic Regression Classifier</h2>"
   ]
  },
  {
   "cell_type": "code",
   "execution_count": 52,
   "id": "01c94d7d",
   "metadata": {},
   "outputs": [],
   "source": [
    "from sklearn.linear_model import LogisticRegression\n",
    "def score_Logistic_Regression(atributos_entrenamiento, objetivo_entrenamiento,atributos_prueba, objetivo_prueba):\n",
    "    clf = LogisticRegression(random_state=0, solver='lbfgs',multi_class='multinomial')\n",
    "    clf.fit(atributos_entrenamiento, objetivo_entrenamiento)\n",
    "    return clf.score(atributos_prueba, objetivo_prueba)"
   ]
  },
  {
   "cell_type": "code",
   "execution_count": 53,
   "id": "0fd25831",
   "metadata": {},
   "outputs": [
    {
     "name": "stderr",
     "output_type": "stream",
     "text": [
      "/Users/maribelrb/opt/anaconda3/lib/python3.8/site-packages/sklearn/linear_model/_logistic.py:763: ConvergenceWarning: lbfgs failed to converge (status=1):\n",
      "STOP: TOTAL NO. of ITERATIONS REACHED LIMIT.\n",
      "\n",
      "Increase the number of iterations (max_iter) or scale the data as shown in:\n",
      "    https://scikit-learn.org/stable/modules/preprocessing.html\n",
      "Please also refer to the documentation for alternative solver options:\n",
      "    https://scikit-learn.org/stable/modules/linear_model.html#logistic-regression\n",
      "  n_iter_i = _check_optimize_result(\n"
     ]
    },
    {
     "data": {
      "text/plain": [
       "0.8836398441238805"
      ]
     },
     "execution_count": 53,
     "metadata": {},
     "output_type": "execute_result"
    }
   ],
   "source": [
    "score_Logistic_Regression(atributos_entrenamiento, objetivo_entrenamiento,atributos_prueba, objetivo_prueba)"
   ]
  }
 ],
 "metadata": {
  "kernelspec": {
   "display_name": "Python 3",
   "language": "python",
   "name": "python3"
  },
  "language_info": {
   "codemirror_mode": {
    "name": "ipython",
    "version": 3
   },
   "file_extension": ".py",
   "mimetype": "text/x-python",
   "name": "python",
   "nbconvert_exporter": "python",
   "pygments_lexer": "ipython3",
   "version": "3.8.8"
  }
 },
 "nbformat": 4,
 "nbformat_minor": 5
}
