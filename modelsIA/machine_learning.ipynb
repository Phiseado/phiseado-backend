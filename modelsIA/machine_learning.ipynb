{
 "cells": [
  {
   "cell_type": "markdown",
   "id": "06179ff5",
   "metadata": {},
   "source": [
    "<center><h1> Phishing detection </h1></center>"
   ]
  },
  {
   "cell_type": "markdown",
   "id": "d81c61b7",
   "metadata": {},
   "source": [
    "<a id='index-of-content'></a>\n",
    "<h2> 1. Index </h2>"
   ]
  },
  {
   "cell_type": "markdown",
   "id": "6ccd4483",
   "metadata": {},
   "source": [
    "<a id='lectura-de-datos'></a>\n",
    "<h2> 2. Data reading </h2>"
   ]
  },
  {
   "cell_type": "code",
   "execution_count": 2,
   "id": "6890321e",
   "metadata": {},
   "outputs": [],
   "source": [
    "import pandas\n",
    "\n",
    "urls = pandas.read_csv('dataset_url.csv', header=0)"
   ]
  },
  {
   "cell_type": "code",
   "execution_count": 13,
   "id": "8e767403",
   "metadata": {},
   "outputs": [],
   "source": [
    "from sklearn import preprocessing\n",
    "\n",
    "atributos = urls.loc[:, 'qty_dot_url':'url_shortened']  # selección de las columnas de atributos\n",
    "objetivo = urls['phishing']  # selección de la columna objetivo"
   ]
  },
  {
   "cell_type": "code",
   "execution_count": null,
   "id": "fd330682",
   "metadata": {},
   "outputs": [],
   "source": [
    "#### To analyse message content ####\n",
    "data = pandas.read_csv('phishing.csv', header=0)\n",
    "from sklearn import preprocessing\n",
    "\n",
    "atributos = data.loc[:, 'Total Number of Characters C':'Unique Words']\n",
    "objetivo = data['Phishing Status']"
   ]
  },
  {
   "cell_type": "markdown",
   "id": "2f95e2b6",
   "metadata": {},
   "source": [
    "<a id='codificacion-de-atributos'></a>\n",
    "<h2> 3. Enconding attributes </h2>"
   ]
  },
  {
   "cell_type": "code",
   "execution_count": 14,
   "id": "3cbce477",
   "metadata": {},
   "outputs": [],
   "source": [
    "def codifica(atributos, objetivo):\n",
    "    codificador_atributos = preprocessing.OrdinalEncoder()\n",
    "    codificador_atributos.fit(atributos)\n",
    "    atributos_codificados = codificador_atributos.transform(atributos)\n",
    "    codificador_objetivo = preprocessing.LabelEncoder()\n",
    "    objetivo_codificado = codificador_objetivo.fit_transform(objetivo)\n",
    "    return atributos_codificados, objetivo_codificado"
   ]
  },
  {
   "cell_type": "code",
   "execution_count": 15,
   "id": "06b57955",
   "metadata": {},
   "outputs": [],
   "source": [
    "atributos_codificados, objetivo_codificado = codifica(atributos,objetivo)"
   ]
  },
  {
   "cell_type": "markdown",
   "id": "b8b6f961",
   "metadata": {},
   "source": [
    "<a id='separacion-de-conjuntos'></a>\n",
    "<h2> 4. Separation of training and testing set </h2>"
   ]
  },
  {
   "cell_type": "code",
   "execution_count": 16,
   "id": "fccfb595",
   "metadata": {},
   "outputs": [
    {
     "name": "stdout",
     "output_type": "stream",
     "text": [
      "0    0.65428\n",
      "1    0.34572\n",
      "Name: phishing, dtype: float64\n"
     ]
    }
   ],
   "source": [
    "print(pandas.Series(objetivo).value_counts(normalize=True))"
   ]
  },
  {
   "cell_type": "code",
   "execution_count": 17,
   "id": "7ab5de97",
   "metadata": {},
   "outputs": [],
   "source": [
    "from sklearn import model_selection\n",
    "\n",
    "(atributos_entrenamiento, atributos_prueba,\n",
    " objetivo_entrenamiento, objetivo_prueba) = model_selection.train_test_split(\n",
    "        # Conjuntos de datos a dividir, usando los mismos índices para ambos\n",
    "        atributos_codificados, objetivo_codificado,\n",
    "        # Valor de la semilla aleatoria, para que el muestreo sea reproducible,\n",
    "        # a pesar de ser aleatorio\n",
    "        random_state=42,\n",
    "        # Tamaño del conjunto de prueba\n",
    "        test_size=.33,\n",
    "        # Estratificamos respecto a la distribución de valores en la variable objetivo\n",
    "        stratify=objetivo_codificado)"
   ]
  },
  {
   "cell_type": "code",
   "execution_count": 18,
   "id": "0f4e5588",
   "metadata": {},
   "outputs": [],
   "source": [
    "def imprime_proporciones(objetivo_prueba,objetivo_entrenamiento):\n",
    "    codificador_atributos = preprocessing.OrdinalEncoder()\n",
    "    codificador_atributos.fit(atributos)\n",
    "    atributos_codificados = codificador_atributos.transform(atributos)\n",
    "    codificador_objetivo = preprocessing.LabelEncoder()\n",
    "    objetivo_codificado = codificador_objetivo.fit_transform(objetivo)\n",
    "    print(\"Proporción de clases en el vector de objetivos  de prueba:\")\n",
    "    print(pandas.Series(\n",
    "        codificador_objetivo.inverse_transform(objetivo_prueba)\n",
    "      ).value_counts(normalize=True))\n",
    "    print(\"Proporción de clases en el vector de objetivos de entrenamiento:\")\n",
    "    print(pandas.Series(\n",
    "        codificador_objetivo.inverse_transform(objetivo_entrenamiento)\n",
    "      ).value_counts(normalize=True))"
   ]
  },
  {
   "cell_type": "code",
   "execution_count": 19,
   "id": "ddceb18f",
   "metadata": {},
   "outputs": [
    {
     "name": "stdout",
     "output_type": "stream",
     "text": [
      "Proporción de clases en el vector de objetivos  de prueba:\n",
      "0    0.65427\n",
      "1    0.34573\n",
      "dtype: float64\n",
      "Proporción de clases en el vector de objetivos de entrenamiento:\n",
      "0    0.654286\n",
      "1    0.345714\n",
      "dtype: float64\n"
     ]
    }
   ],
   "source": [
    "imprime_proporciones(objetivo_prueba,objetivo_entrenamiento)"
   ]
  },
  {
   "cell_type": "markdown",
   "id": "1c1d8ddb",
   "metadata": {},
   "source": [
    "<a id='modelos-de-clasificacion'></a>\n",
    "<h2> 4. Classification models </h2>"
   ]
  },
  {
   "cell_type": "markdown",
   "id": "aff9c725",
   "metadata": {},
   "source": [
    "<a id='knn-5-vecinos'></a>\n",
    "<h2> 4.1. KNN Classifier </h2>"
   ]
  },
  {
   "cell_type": "code",
   "execution_count": 22,
   "id": "1752a784",
   "metadata": {},
   "outputs": [],
   "source": [
    "from sklearn import neighbors\n",
    "def score_kNN(atributos_entrenamiento, objetivo_entrenamiento,atributos_prueba, objetivo_prueba, k):    \n",
    "    clasif_kNN = neighbors.KNeighborsClassifier(n_neighbors=k, metric='hamming')\n",
    "    clasif_kNN.fit(atributos_entrenamiento, objetivo_entrenamiento)\n",
    "\n",
    "    return clasif_kNN.score(atributos_prueba, objetivo_prueba)"
   ]
  },
  {
   "cell_type": "code",
   "execution_count": 23,
   "id": "7886de00",
   "metadata": {},
   "outputs": [
    {
     "data": {
      "text/plain": [
       "0.948690777329596"
      ]
     },
     "execution_count": 23,
     "metadata": {},
     "output_type": "execute_result"
    }
   ],
   "source": [
    "score_kNN(atributos_entrenamiento, objetivo_entrenamiento,atributos_prueba, objetivo_prueba, 5)"
   ]
  },
  {
   "cell_type": "code",
   "execution_count": 42,
   "metadata": {},
   "outputs": [
    {
     "name": "stdout",
     "output_type": "stream",
     "text": [
      "[1]\n"
     ]
    }
   ],
   "source": [
    "clasif_kNN = neighbors.KNeighborsClassifier(n_neighbors=5, metric='hamming')\n",
    "clasif_kNN.fit(atributos_entrenamiento, objetivo_entrenamiento)\n",
    "ejemplo_nuevo = atributos_prueba[0]\n",
    "prediction = clasif_kNN.predict([ejemplo_nuevo])\n",
    "print(prediction)"
   ]
  },
  {
   "cell_type": "markdown",
   "id": "cf62acfb",
   "metadata": {},
   "source": [
    "<a id='decision-tree'></a>\n",
    "<h2> 4.2. Decission Tree Classifier</h2>"
   ]
  },
  {
   "cell_type": "code",
   "execution_count": 44,
   "id": "b2be7a8a",
   "metadata": {},
   "outputs": [],
   "source": [
    "from sklearn.tree import DecisionTreeClassifier\n",
    "def score_tree_classifier(atributos_entrenamiento, objetivo_entrenamiento,atributos_prueba, objetivo_prueba):\n",
    "    clasif_Tree = DecisionTreeClassifier(random_state=0)\n",
    "    clasif_Tree.fit(atributos_entrenamiento, objetivo_entrenamiento)\n",
    "\n",
    "    return clasif_Tree.score(atributos_prueba, objetivo_prueba)"
   ]
  },
  {
   "cell_type": "code",
   "execution_count": 45,
   "id": "343ec396",
   "metadata": {},
   "outputs": [
    {
     "data": {
      "text/plain": [
       "0.9506050454638681"
      ]
     },
     "execution_count": 45,
     "metadata": {},
     "output_type": "execute_result"
    }
   ],
   "source": [
    "score_tree_classifier(atributos_entrenamiento, objetivo_entrenamiento,atributos_prueba, objetivo_prueba)"
   ]
  },
  {
   "cell_type": "markdown",
   "id": "a2fce4e9",
   "metadata": {},
   "source": [
    "<a id='neuronal-network'></a>\n",
    "<h2> 4.3. Neural Network Classifier</h2>"
   ]
  },
  {
   "cell_type": "code",
   "execution_count": 46,
   "id": "fca7f59f",
   "metadata": {},
   "outputs": [],
   "source": [
    "from sklearn.neural_network import MLPClassifier\n",
    "def score_neuronal_network(atributos_entrenamiento, objetivo_entrenamiento,atributos_prueba, objetivo_prueba):\n",
    "    clf = MLPClassifier(solver='lbfgs', alpha=1e-5, hidden_layer_sizes=(2, 5), random_state=1)\n",
    "    clf.fit(atributos_entrenamiento, objetivo_entrenamiento)\n",
    "    \n",
    "    return clf.score(atributos_prueba, objetivo_prueba)"
   ]
  },
  {
   "cell_type": "code",
   "execution_count": 47,
   "id": "cac549df",
   "metadata": {},
   "outputs": [
    {
     "name": "stderr",
     "output_type": "stream",
     "text": [
      "/Users/maribelrb/opt/anaconda3/lib/python3.8/site-packages/sklearn/neural_network/_multilayer_perceptron.py:500: ConvergenceWarning: lbfgs failed to converge (status=2):\n",
      "ABNORMAL_TERMINATION_IN_LNSRCH.\n",
      "\n",
      "Increase the number of iterations (max_iter) or scale the data as shown in:\n",
      "    https://scikit-learn.org/stable/modules/preprocessing.html\n",
      "  self.n_iter_ = _check_optimize_result(\"lbfgs\", opt_res, self.max_iter)\n"
     ]
    },
    {
     "data": {
      "text/plain": [
       "0.634921720106652"
      ]
     },
     "execution_count": 47,
     "metadata": {},
     "output_type": "execute_result"
    }
   ],
   "source": [
    "score_neuronal_network(atributos_entrenamiento, objetivo_entrenamiento,atributos_prueba, objetivo_prueba)"
   ]
  },
  {
   "cell_type": "markdown",
   "id": "7fff3b4b",
   "metadata": {},
   "source": [
    "<a id='random-forest'></a>\n",
    "<h2>4.4. Random Forest Classifier</h2>"
   ]
  },
  {
   "cell_type": "code",
   "execution_count": 50,
   "id": "5ee6583b",
   "metadata": {},
   "outputs": [],
   "source": [
    "from sklearn.ensemble import RandomForestClassifier\n",
    "def score_random_forest(atributos_entrenamiento, objetivo_entrenamiento,atributos_prueba, objetivo_prueba):\n",
    "    clasif_RF = RandomForestClassifier(n_estimators=100, max_depth=2, random_state=0)\n",
    "    clasif_RF.fit(atributos_entrenamiento, objetivo_entrenamiento)\n",
    "    return clasif_RF.score(atributos_prueba, objetivo_prueba)"
   ]
  },
  {
   "cell_type": "code",
   "execution_count": 51,
   "id": "ffcef534",
   "metadata": {},
   "outputs": [
    {
     "data": {
      "text/plain": [
       "0.8642578792643741"
      ]
     },
     "execution_count": 51,
     "metadata": {},
     "output_type": "execute_result"
    }
   ],
   "source": [
    "score_random_forest(atributos_entrenamiento, objetivo_entrenamiento,atributos_prueba, objetivo_prueba)"
   ]
  },
  {
   "cell_type": "markdown",
   "id": "7fc9ecb4",
   "metadata": {},
   "source": [
    "<a id='logistic-regresion'></a>\n",
    "<h2>4.5. Logistic Regression Classifier</h2>"
   ]
  },
  {
   "cell_type": "code",
   "execution_count": 52,
   "id": "01c94d7d",
   "metadata": {},
   "outputs": [],
   "source": [
    "from sklearn.linear_model import LogisticRegression\n",
    "def score_Logistic_Regression(atributos_entrenamiento, objetivo_entrenamiento,atributos_prueba, objetivo_prueba):\n",
    "    clf = LogisticRegression(random_state=0, solver='lbfgs',multi_class='multinomial')\n",
    "    clf.fit(atributos_entrenamiento, objetivo_entrenamiento)\n",
    "    return clf.score(atributos_prueba, objetivo_prueba)"
   ]
  },
  {
   "cell_type": "code",
   "execution_count": 53,
   "id": "0fd25831",
   "metadata": {},
   "outputs": [
    {
     "name": "stderr",
     "output_type": "stream",
     "text": [
      "/Users/maribelrb/opt/anaconda3/lib/python3.8/site-packages/sklearn/linear_model/_logistic.py:763: ConvergenceWarning: lbfgs failed to converge (status=1):\n",
      "STOP: TOTAL NO. of ITERATIONS REACHED LIMIT.\n",
      "\n",
      "Increase the number of iterations (max_iter) or scale the data as shown in:\n",
      "    https://scikit-learn.org/stable/modules/preprocessing.html\n",
      "Please also refer to the documentation for alternative solver options:\n",
      "    https://scikit-learn.org/stable/modules/linear_model.html#logistic-regression\n",
      "  n_iter_i = _check_optimize_result(\n"
     ]
    },
    {
     "data": {
      "text/plain": [
       "0.8836398441238805"
      ]
     },
     "execution_count": 53,
     "metadata": {},
     "output_type": "execute_result"
    }
   ],
   "source": [
    "score_Logistic_Regression(atributos_entrenamiento, objetivo_entrenamiento,atributos_prueba, objetivo_prueba)"
   ]
  }
 ],
 "metadata": {
  "kernelspec": {
   "display_name": "Python 3",
   "language": "python",
   "name": "python3"
  },
  "language_info": {
   "codemirror_mode": {
    "name": "ipython",
    "version": 3
   },
   "file_extension": ".py",
   "mimetype": "text/x-python",
   "name": "python",
   "nbconvert_exporter": "python",
   "pygments_lexer": "ipython3",
   "version": "3.8.8"
  }
 },
 "nbformat": 4,
 "nbformat_minor": 5
}
